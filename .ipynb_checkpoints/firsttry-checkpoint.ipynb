{
 "cells": [
  {
   "cell_type": "code",
   "execution_count": 9,
   "metadata": {
    "collapsed": false
   },
   "outputs": [
    {
     "name": "stdout",
     "output_type": "stream",
     "text": [
      "45\n"
     ]
    }
   ],
   "source": [
    "x=45\n",
    "y=4.5\n",
    "print(x)\n"
   ]
  },
  {
   "cell_type": "code",
   "execution_count": 10,
   "metadata": {
    "collapsed": false
   },
   "outputs": [
    {
     "name": "stdout",
     "output_type": "stream",
     "text": [
      "49.5\n"
     ]
    }
   ],
   "source": [
    "print (x+y)"
   ]
  },
  {
   "cell_type": "code",
   "execution_count": 2,
   "metadata": {
    "collapsed": false
   },
   "outputs": [
    {
     "name": "stdout",
     "output_type": "stream",
     "text": [
      "(True, <type 'bool'>)\n"
     ]
    }
   ],
   "source": [
    "a= True\n",
    "print(a, type(a))\n",
    "import numpy as np\n",
    "import math as math\n",
    "              "
   ]
  },
  {
   "cell_type": "markdown",
   "metadata": {
    "collapsed": true
   },
   "source": [
    "This is a markdown cell $$x+y$$\n"
   ]
  },
  {
   "cell_type": "markdown",
   "metadata": {},
   "source": [
    "Can't add numbers to strings \n",
    "to take suqare root: math.sqrt(....)\n",
    "to find what is in a library, can type dir on it : print dir(...)\n"
   ]
  },
  {
   "cell_type": "code",
   "execution_count": 12,
   "metadata": {
    "collapsed": false
   },
   "outputs": [
    {
     "name": "stdout",
     "output_type": "stream",
     "text": [
      "3\n",
      "<type 'bool'>\n",
      "1.73205080757\n"
     ]
    }
   ],
   "source": [
    "a=3\n",
    "print a\n",
    "d= True \n",
    "print type(d)\n",
    "print math.sqrt(a)"
   ]
  },
  {
   "cell_type": "code",
   "execution_count": 13,
   "metadata": {
    "collapsed": false
   },
   "outputs": [
    {
     "name": "stdout",
     "output_type": "stream",
     "text": [
      "2\n",
      "3\n",
      "[1, 2, 3, 4, 5]\n",
      "[1, 3, 5]\n",
      "[2, 3, 4]\n"
     ]
    }
   ],
   "source": [
    "# lists\n",
    "lista= [1,2,3,4,5]\n",
    "print lista[1]\n",
    "print lista[-3]\n",
    "print lista [0:5:1]\n",
    "print lista[::2]\n",
    "print lista[1:4:1]\n",
    "listb= [0, 9, \"2\", \"hi\"]"
   ]
  },
  {
   "cell_type": "markdown",
   "metadata": {},
   "source": [
    "Lists do have an order. they can contain different types as well. \n",
    "we can make dictionaries too\n"
   ]
  },
  {
   "cell_type": "code",
   "execution_count": 25,
   "metadata": {
    "collapsed": false
   },
   "outputs": [
    {
     "name": "stdout",
     "output_type": "stream",
     "text": [
      "{'name': 'Joe', 'weight': 60.3}\n",
      "<built-in method keys of dict object at 0x0000000003D9B598>\n",
      "('Joe', <type 'str'>)\n",
      "60.3\n",
      "('name', 'Joe', <type 'str'>)\n",
      "('weight', 60.3, <type 'float'>)\n"
     ]
    }
   ],
   "source": [
    "info= dict() # make an empty dictionary\n",
    "info['name']= 'Joe'\n",
    "info['weight']= 60.3#kg\n",
    "# we are done filling in info\n",
    "print info\n",
    "print info.keys\n",
    "print(info['name'], type(info['name']))\n",
    "print info['weight']\n",
    "# can use for loops\n",
    "for key in info.keys():\n",
    "    print (key, info[key], type(info[key]))"
   ]
  },
  {
   "cell_type": "code",
   "execution_count": 27,
   "metadata": {
    "collapsed": false
   },
   "outputs": [
    {
     "name": "stdout",
     "output_type": "stream",
     "text": [
      "{'name': 'Joe', 'weight': 77.9}\n",
      "{'name': 'Joe', 'weight': 60.3}\n"
     ]
    }
   ],
   "source": [
    "newinfo= info.copy()  # better than just equating. doesn't change info too\n",
    "newinfo['weight']= 77.9\n",
    "print (newinfo)\n",
    "print (info)\n"
   ]
  },
  {
   "cell_type": "code",
   "execution_count": 24,
   "metadata": {
    "collapsed": false
   },
   "outputs": [
    {
     "name": "stdout",
     "output_type": "stream",
     "text": [
      "[[1 2 3 4 6 7 8]\n",
      " [0 0 0 0 0 0 0]]\n",
      "(2L, 7L)\n"
     ]
    }
   ],
   "source": [
    "array= np.array([[1,2,3,4,6,7,8], [0,0,0,0,0,0,0]])\n",
    "print array\n",
    "print np.shape(array)"
   ]
  },
  {
   "cell_type": "code",
   "execution_count": 17,
   "metadata": {
    "collapsed": false
   },
   "outputs": [
    {
     "name": "stdout",
     "output_type": "stream",
     "text": [
      "x is bigger\n"
     ]
    }
   ],
   "source": [
    "if x>y:\n",
    "    print \"x is bigger\"\n",
    "else:\n",
    "    print \"y is bigger\""
   ]
  },
  {
   "cell_type": "code",
   "execution_count": 13,
   "metadata": {
    "collapsed": false
   },
   "outputs": [
    {
     "name": "stdout",
     "output_type": "stream",
     "text": [
      "4\n",
      "[[4 4 4 4]]\n",
      "[[4 4 4 4]]\n",
      "[[1 4]\n",
      " [3 4]\n",
      " [2 4]\n",
      " [5 4]]\n",
      "[[3 8]\n",
      " [5 8]\n",
      " [4 8]\n",
      " [7 8]]\n"
     ]
    },
    {
     "ename": "ValueError",
     "evalue": "operands could not be broadcast together with shapes (2,4) (2,) ",
     "output_type": "error",
     "traceback": [
      "\u001b[1;31m---------------------------------------------------------------------------\u001b[0m",
      "\u001b[1;31mValueError\u001b[0m                                Traceback (most recent call last)",
      "\u001b[1;32m<ipython-input-13-e5b687ed8239>\u001b[0m in \u001b[0;36m<module>\u001b[1;34m()\u001b[0m\n\u001b[0;32m      6\u001b[0m \u001b[0mb\u001b[0m\u001b[1;33m=\u001b[0m \u001b[0mnp\u001b[0m\u001b[1;33m.\u001b[0m\u001b[0marray\u001b[0m\u001b[1;33m(\u001b[0m\u001b[1;33m[\u001b[0m\u001b[1;36m2\u001b[0m\u001b[1;33m,\u001b[0m \u001b[1;36m4\u001b[0m\u001b[1;33m]\u001b[0m\u001b[1;33m)\u001b[0m\u001b[1;33m\u001b[0m\u001b[0m\n\u001b[0;32m      7\u001b[0m \u001b[1;32mprint\u001b[0m \u001b[0mb\u001b[0m\u001b[1;33m+\u001b[0m\u001b[0mA\u001b[0m\u001b[1;33m.\u001b[0m\u001b[0mT\u001b[0m\u001b[1;33m\u001b[0m\u001b[0m\n\u001b[1;32m----> 8\u001b[1;33m \u001b[1;32mprint\u001b[0m \u001b[0mA\u001b[0m\u001b[1;33m+\u001b[0m\u001b[0mb\u001b[0m\u001b[1;33m.\u001b[0m\u001b[0mT\u001b[0m\u001b[1;33m\u001b[0m\u001b[0m\n\u001b[0m",
      "\u001b[1;31mValueError\u001b[0m: operands could not be broadcast together with shapes (2,4) (2,) "
     ]
    }
   ],
   "source": [
    "A=np.array([[1,3,2,5],[4,4,4,4]])\n",
    "print A[1, 3]\n",
    "print A[1:]\n",
    "print A[-1:]\n",
    "print A.T\n",
    "b= np.array([2, 4])\n",
    "print b+A.T\n",
    "# print A+b.T I guess this does not work- can't do (2, 4) and (2, )\n"
   ]
  },
  {
   "cell_type": "raw",
   "metadata": {
    "collapsed": true
   },
   "source": []
  }
 ],
 "metadata": {
  "kernelspec": {
   "display_name": "Python 2",
   "language": "python",
   "name": "python2"
  },
  "language_info": {
   "codemirror_mode": {
    "name": "ipython",
    "version": 2
   },
   "file_extension": ".py",
   "mimetype": "text/x-python",
   "name": "python",
   "nbconvert_exporter": "python",
   "pygments_lexer": "ipython2",
   "version": "2.7.10"
  }
 },
 "nbformat": 4,
 "nbformat_minor": 0
}
